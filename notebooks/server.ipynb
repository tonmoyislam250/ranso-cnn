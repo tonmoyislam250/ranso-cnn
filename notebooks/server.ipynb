{
  "cells": [
    {
      "cell_type": "code",
      "execution_count": 3,
      "metadata": {
        "id": "8C-N16OLGa4d"
      },
      "outputs": [],
      "source": [
        "import pefile\n",
        "from fastapi import FastAPI\n",
        "import numpy as np\n",
        "import pandas as pd"
      ]
    },
    {
      "cell_type": "markdown",
      "metadata": {
        "id": "f3h9s0swih7Z"
      },
      "source": [
        "## Utility functions for server\n"
      ]
    },
    {
      "cell_type": "code",
      "execution_count": 2,
      "metadata": {
        "id": "wD3PIOiyjQs9"
      },
      "outputs": [],
      "source": [
        "import joblib"
      ]
    },
    {
      "cell_type": "code",
      "execution_count": null,
      "metadata": {
        "id": "EPaR96uZe3yf"
      },
      "outputs": [],
      "source": [
        "import itertools\n",
        "from sklearn.pipeline import Pipeline\n",
        "\n",
        "\n",
        "def createDataframeFromPEdump(pe):\n",
        "\n",
        "\tdosHeaders = ['e_magic', 'e_cblp', 'e_cp', 'e_crlc', 'e_cparhdr',\n",
        "\t       'e_minalloc', 'e_maxalloc', 'e_ss', 'e_sp', 'e_csum', 'e_ip', 'e_cs',\n",
        "\t       'e_lfarlc', 'e_ovno', 'e_oemid', 'e_oeminfo', 'e_lfanew']\n",
        "\tfileHeaders=['Machine',\n",
        "\t       'NumberOfSections', 'TimeDateStamp', 'PointerToSymbolTable',\n",
        "\t       'NumberOfSymbols', 'SizeOfOptionalHeader', 'Characteristics']\n",
        "\toptionalHeaders=['Magic',\n",
        "\t       'MajorLinkerVersion', 'MinorLinkerVersion', 'SizeOfCode',\n",
        "\t       'SizeOfInitializedData', 'SizeOfUninitializedData','AddressOfEntryPoint', 'BaseOfCode',\n",
        "\t        'ImageBase', 'SectionAlignment','FileAlignment', 'MajorOperatingSystemVersion',\n",
        "\t       'MinorOperatingSystemVersion', 'MajorImageVersion', 'MinorImageVersion',\n",
        "\t       'MajorSubsystemVersion', 'MinorSubsystemVersion', 'SizeOfHeaders',\n",
        "\t       'CheckSum', 'SizeOfImage', 'Subsystem', 'DllCharacteristics',\n",
        "\t       'SizeOfStackReserve', 'SizeOfStackCommit', 'SizeOfHeapReserve',\n",
        "\t       'SizeOfHeapCommit', 'LoaderFlags', 'NumberOfRvaAndSizes']\n",
        "\timageDirectory = ['ImageDirectoryEntryExport', 'ImageDirectoryEntryImport',\n",
        "\t       'ImageDirectoryEntryResource', 'ImageDirectoryEntryException',\n",
        "\t       'ImageDirectoryEntrySecurity']\n",
        "\n",
        "\tdheaders = {}\n",
        "\tfheaders = {}\n",
        "\toheaders={}\n",
        "\timd1 = {}\n",
        "\n",
        "\tfor x in dosHeaders:\n",
        "\t\tdheaders[x] = getattr(pe.DOS_HEADER,x)\n",
        "\tdf = pd.DataFrame(dheaders,index=[0])\n",
        "\n",
        "\tfor i in fileHeaders:\n",
        "\t\tfheaders[i] = getattr(pe.FILE_HEADER,i)\n",
        "\tdf = pd.concat([df,(pd.DataFrame(fheaders,index=[0]))],axis=1)\n",
        "\n",
        "\tfor y in optionalHeaders:\n",
        "\t\toheaders[y] = getattr(pe.OPTIONAL_HEADER,y)\n",
        "\tdf = pd.concat([df,(pd.DataFrame(oheaders,index=[0]))],axis=1)\n",
        "\n",
        "\tfor q in pe.OPTIONAL_HEADER.DATA_DIRECTORY:\n",
        "\t    imd1[q.name] = q.VirtualAddress\n",
        "\timd1 = dict(itertools.islice(imd1.items(),5))\n",
        "\tdf = pd.concat([df,(pd.DataFrame(imd1,index=[0]))],axis=1)\n",
        "\n",
        "\treturn df\n",
        "\n",
        "def getPredictions(df):\n",
        "    load_scaler = joblib.load(open(r'../components/SScaler.pkl','rb'))\n",
        "    load_skpca = joblib.load(open(r'../components/PCA.pkl','rb'))\n",
        "    load_model = joblib.load(open(r'../components/model.pkl','rb'))\n",
        "    pipe = Pipeline([('scale', load_scaler),('pca', load_skpca),('clf', load_model)])\n",
        "    df = np.array(df)\n",
        "    df = df.reshape(1,-1)\n",
        "    results = pipe.predict_proba(df)\n",
        "    pred = pipe.predict(df)\n",
        "    return (results[0],pred[0])"
      ]
    },
    {
      "cell_type": "code",
      "execution_count": null,
      "metadata": {
        "id": "V_za0bO3PEWl"
      },
      "outputs": [],
      "source": []
    },
    {
      "cell_type": "markdown",
      "metadata": {
        "id": "-f55HzAmOvYF"
      },
      "source": [
        "## Exe to png"
      ]
    },
    {
      "cell_type": "code",
      "execution_count": null,
      "metadata": {
        "id": "sM9cqEGGPJc8"
      },
      "outputs": [],
      "source": [
        "import math\n",
        "import os\n",
        "from PIL import Image\n",
        "def getBinaryData(filename):\n",
        "\t\"\"\"\n",
        "\tExtract byte values from binary executable file and store them into list\n",
        "\t:param filename: executable file name\n",
        "\t:return: byte value list\n",
        "\t\"\"\"\n",
        "\n",
        "\tbinary_values = []\n",
        "\n",
        "\twith open(filename, 'rb') as fileobject:\n",
        "\n",
        "\t\t# read file byte by byte\n",
        "\t\tdata = fileobject.read(1)\n",
        "\n",
        "\t\twhile data != b'':\n",
        "\t\t\tbinary_values.append(ord(data))\n",
        "\t\t\tdata = fileobject.read(1)\n",
        "\treturn binary_values\n",
        "\n",
        "def createGreyScaleImage(filename, width=None):\n",
        "    global img_path \n",
        "    greyscale_data  = getBinaryData(filename)\n",
        "    size            = get_size(len(greyscale_data), width)\n",
        "    # try:\n",
        "    image = Image.new('L',size)\n",
        "    image.putdata(greyscale_data)\n",
        "      # setup output filename\n",
        "    dirname     = os.path.dirname(filename)\n",
        "    name, _     = os.path.splitext(filename)\n",
        "    name        = os.path.basename(name)\n",
        "    imagename   = dirname + os.sep + name + '_'+ '.png'\n",
        "    os.makedirs(os.path.dirname(imagename), exist_ok=True)\n",
        "    img_path = imagename\n",
        "    image.save(imagename)\n",
        "    print('The file', imagename, 'saved.')\n",
        "    # except Exception as err:\n",
        "    # \t  print(err)\n",
        "  \n",
        "\n",
        "\n",
        "def get_size(data_length, width=None):\n",
        "\n",
        "\tif width is None: # with don't specified any with value\n",
        "\n",
        "\t\tsize = data_length\n",
        "\n",
        "\t\tif (size < 10240):\n",
        "\t\t\twidth = 32\n",
        "\t\telif (10240 <= size <= 10240 * 3):\n",
        "\t\t\twidth = 64\n",
        "\t\telif (10240 * 3 <= size <= 10240 * 6):\n",
        "\t\t\twidth = 128\n",
        "\t\telif (10240 * 6 <= size <= 10240 * 10):\n",
        "\t\t\twidth = 256\n",
        "\t\telif (10240 * 10 <= size <= 10240 * 20):\n",
        "\t\t\twidth = 384\n",
        "\t\telif (10240 * 20 <= size <= 10240 * 50):\n",
        "\t\t\twidth = 512\n",
        "\t\telif (10240 * 50 <= size <= 10240 * 100):\n",
        "\t\t\twidth = 768\n",
        "\t\telse:\n",
        "\t\t\twidth = 1024\n",
        "\n",
        "\t\theight = int(size / width) + 1\n",
        "\n",
        "\telse:\n",
        "\t\twidth  = int(math.sqrt(data_length)) + 1\n",
        "\t\theight = width\n",
        "\n",
        "\treturn (width, height)"
      ]
    },
    {
      "cell_type": "code",
      "execution_count": null,
      "metadata": {
        "id": "JQ_pXvF4GZX4"
      },
      "outputs": [],
      "source": [
        "import numpy as np\n",
        "from io import BytesIO\n",
        "from keras.applications import imagenet_utils\n",
        "import tensorflow as tf \n",
        "import itertools\n",
        "import pefile\n",
        "import os\n",
        "import pandas as pd\n",
        "from sklearn.decomposition import PCA\n",
        "from sklearn.preprocessing import StandardScaler\n",
        "from sklearn.pipeline import Pipeline\n",
        "import uvicorn\n",
        "from fastapi import FastAPI, File, UploadFile\n",
        "from starlette.responses import RedirectResponse\n",
        "import cv2\n",
        "import tempfile\n",
        "import uvicorn\n",
        "from keras.preprocessing.image import img_to_array\n",
        "from fastapi.templating import Jinja2Templates"
      ]
    },
    {
      "cell_type": "markdown",
      "metadata": {
        "id": "nQwveym6O3fP"
      },
      "source": [
        "## PreProcess"
      ]
    },
    {
      "cell_type": "code",
      "execution_count": null,
      "metadata": {
        "id": "PXu4VFyFPNVf"
      },
      "outputs": [],
      "source": [
        "from io import BytesIO\n",
        "from PIL import Image\n",
        "model = None\n",
        "output_dict = {'Adialer.C': 0,\n",
        " 'Agent.FYI': 1,\n",
        " 'Allaple.A': 2,\n",
        " 'Allaple.L': 3,\n",
        " 'Alueron.gen!J': 4,\n",
        " 'Autorun.K': 5,\n",
        " 'C2LOP.P': 6,\n",
        " 'C2LOP.gen!g': 7,\n",
        " 'Dialplatform.B': 8,\n",
        " 'Dontovo.A': 9,\n",
        " 'Fakerean': 10,\n",
        " 'Instantaccess': 11,\n",
        " 'Lolyda.AA1': 12,\n",
        " 'Lolyda.AA2': 13,\n",
        " 'Lolyda.AA3': 14,\n",
        " 'Lolyda.AT': 15,\n",
        " 'Malex.gen!J': 16,\n",
        " 'Obfuscator.AD': 17,\n",
        " 'Rbot!gen': 18,\n",
        " 'Skintrim.N': 19,\n",
        " 'Swizzor.gen!E': 20,\n",
        " 'Swizzor.gen!I': 21,\n",
        " 'VB.AT': 22,\n",
        " 'Wintrim.BX': 23,\n",
        " 'Yuner.A': 24}\n",
        "\n",
        "def load_model():\n",
        "  model =  tf.keras.models.load_model(\"../components//malware_model.h5\")\n",
        "  print(\"Model loaded...\")\n",
        "  return model\n",
        "def cnn_predict(imagepath):\n",
        "    global model\n",
        "    if model is None:\n",
        "        model = load_model()\n",
        "    image = cv2.imread(imagepath)\n",
        "    image = cv2.resize(image, (64, 64))\n",
        "    image = img_to_array(image)\n",
        "    image = np.expand_dims(image, axis=0)\n",
        "    res = model.predict_classes(image)\n",
        "    ax = model.predict(image)\n",
        "    return get_key(res)\n",
        "\n",
        "def get_key(val):\n",
        "    for key, value in output_dict.items():\n",
        "         if val == value:\n",
        "             return key\n",
        " \n",
        "    return \"key doesn't exist\""
      ]
    },
    {
      "cell_type": "markdown",
      "metadata": {
        "id": "RPRz_PbanNf4"
      },
      "source": [
        "## Fast API"
      ]
    },
    {
      "cell_type": "code",
      "execution_count": null,
      "metadata": {
        "id": "zekgw5toi1bZ"
      },
      "outputs": [],
      "source": [
        "#creating fastApi app \n",
        "app_desc = \"\"\"<h2> Try uploading a Portable Executable(PE) file\"\"\"\n",
        "app = FastAPI(description = app_desc)\n",
        "templates = Jinja2Templates(directory=\"/content/drive/MyDrive/Final year/Arsha\")\n",
        "@app.get(\"/\",include_in_schema=False)\n",
        "async def index():\n",
        "\treturn RedirectResponse(url=\"/docs\")\n",
        "\n",
        "@app.post(\"/predict\")\n",
        "def parse(file: UploadFile = File(...)):\n",
        "    extension = os.path.splitext(file.filename)[1]\n",
        "    _, path = tempfile.mkstemp(prefix='parser_', suffix=extension)\n",
        "\n",
        "    with open(path, 'ab') as f:\n",
        "        for chunk in iter(lambda: file.file.read(10000), b''):\n",
        "            f.write(chunk)\n",
        "\n",
        "    # extract content\n",
        "    content = pefile.PE(path,fast_load=True)\n",
        "    img = None\n",
        "    dataframe = createDataframeFromPEdump(content)\n",
        "    binary_preds = getPredictions(dataframe)\n",
        "    if binary_preds[1] == 1:\n",
        "      createGreyScaleImage(path)\n",
        "      img = cnn_predict(img_path)\n",
        "      return {'response':'Malicious file','predictions':binary_preds[0][1]*100,'malware family':img}\n",
        "    else:\n",
        "      return {'Response': 'Your file is same from malware.','Malicious percentage':binary_preds[0][1]*100,'malware family':''}\n",
        "    # remove temp file\n",
        "    os.close(_)\n",
        "    os.remove(path)\n",
        "    \n"
      ]
    },
    {
      "cell_type": "code",
      "execution_count": null,
      "metadata": {
        "id": "TNt01YgXany4"
      },
      "outputs": [],
      "source": []
    },
    {
      "cell_type": "markdown",
      "metadata": {
        "id": "BeDAdMFgpPRV"
      },
      "source": [
        "## future scope\n"
      ]
    },
    {
      "cell_type": "code",
      "execution_count": null,
      "metadata": {
        "id": "gADEfRwBpOe2"
      },
      "outputs": [],
      "source": []
    }
  ],
  "metadata": {
    "colab": {
      "collapsed_sections": [],
      "name": "fastapi server for model",
      "provenance": []
    },
    "kernelspec": {
      "display_name": "Python 3",
      "name": "python3"
    },
    "language_info": {
      "codemirror_mode": {
        "name": "ipython",
        "version": 3
      },
      "file_extension": ".py",
      "mimetype": "text/x-python",
      "name": "python",
      "nbconvert_exporter": "python",
      "pygments_lexer": "ipython3",
      "version": "3.7.9"
    }
  },
  "nbformat": 4,
  "nbformat_minor": 0
}
